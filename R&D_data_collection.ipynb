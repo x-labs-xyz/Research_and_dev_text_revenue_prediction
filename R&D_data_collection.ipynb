{
 "cells": [
  {
   "cell_type": "code",
   "execution_count": 8,
   "id": "c21e5f7f",
   "metadata": {},
   "outputs": [],
   "source": [
    "api_key = 'b6ac9f31a61869fe49b661bd084935a8'"
   ]
  },
  {
   "cell_type": "code",
   "execution_count": null,
   "id": "d816d486",
   "metadata": {},
   "outputs": [],
   "source": [
    "from urllib.request import urlopen\n",
    "import certifi\n",
    "import json\n",
    "import warnings\n",
    "\n",
    "def get_jsonparsed_data(url):\n",
    "    \"\"\"\n",
    "    Receive the content of ``url``, parse it as JSON and return the object.\n",
    "\n",
    "    Parameters\n",
    "    ----------\n",
    "    url : str\n",
    "\n",
    "    Returns\n",
    "    -------\n",
    "    dict\n",
    "    \"\"\"\n",
    "    with warnings.catch_warnings():\n",
    "        warnings.simplefilter(\"ignore\", category=DeprecationWarning)\n",
    "        response = urlopen(url, cafile=certifi.where())\n",
    "        data = response.read().decode(\"utf-8\")\n",
    "    return json.loads(data)\n"
   ]
  },
  {
   "cell_type": "markdown",
   "id": "4b768ee7",
   "metadata": {},
   "source": [
    "### Get SEC tickers/cik"
   ]
  },
  {
   "cell_type": "code",
   "execution_count": 2,
   "id": "0842ab25",
   "metadata": {},
   "outputs": [
    {
     "name": "stdout",
     "output_type": "stream",
     "text": [
      "File 'ticker.txt' downloaded successfully.\n"
     ]
    }
   ],
   "source": [
    "import requests\n",
    "\n",
    "url = \"https://www.sec.gov/include/ticker.txt\"\n",
    "local_filename = \"ticker.txt\"\n",
    "\n",
    "response = requests.get(url)\n",
    "\n",
    "if response.status_code == 200:\n",
    "    with open(local_filename, \"wb\") as file:\n",
    "        file.write(response.content)\n",
    "    print(f\"File '{local_filename}' downloaded successfully.\")\n",
    "else:\n",
    "    print(f\"Failed to download the file. Status code: {response.status_code}\")\n"
   ]
  },
  {
   "cell_type": "markdown",
   "id": "44ebff2b",
   "metadata": {},
   "source": [
    "### Make it into dataframe"
   ]
  },
  {
   "cell_type": "code",
   "execution_count": 3,
   "id": "1e64a919",
   "metadata": {},
   "outputs": [
    {
     "name": "stdout",
     "output_type": "stream",
     "text": [
      "      Company CIK number\n",
      "0        aapl     320193\n",
      "1        msft     789019\n",
      "2       brk-b    1067983\n",
      "3         unh     731766\n",
      "4         jnj     200406\n",
      "...       ...        ...\n",
      "12079   hcicu    1829455\n",
      "12080   hcicw    1829455\n",
      "12081   hawlm      46207\n",
      "12082   hbanm      49196\n",
      "12083   hbanp      49196\n",
      "\n",
      "[12084 rows x 2 columns]\n"
     ]
    }
   ],
   "source": [
    "import pandas as pd\n",
    "\n",
    "file_name = \"ticker.txt\"\n",
    "\n",
    "try:\n",
    "    with open(file_name, \"r\") as file:\n",
    "        lines = file.readlines()\n",
    "        \n",
    "    data = [line.strip().split('\\t') for line in lines]\n",
    "\n",
    "    # Create a DataFrame\n",
    "    df = pd.DataFrame(data, columns=[\"Company\", \"CIK number\"])\n",
    "\n",
    "    print(df)\n",
    "except FileNotFoundError:\n",
    "    print(f\"File '{file_name}' not found.\")\n",
    "except Exception as e:\n",
    "    print(f\"An error occurred: {str(e)}\")\n"
   ]
  },
  {
   "cell_type": "markdown",
   "id": "648cfca7",
   "metadata": {},
   "source": [
    "### Collect Revenue Data"
   ]
  },
  {
   "cell_type": "code",
   "execution_count": 6,
   "id": "045ffa1a",
   "metadata": {},
   "outputs": [],
   "source": [
    "companies = df['Company']"
   ]
  },
  {
   "cell_type": "code",
   "execution_count": 9,
   "id": "04478d84",
   "metadata": {},
   "outputs": [
    {
     "name": "stderr",
     "output_type": "stream",
     "text": [
      "Processing Companies: 100%|█████████████| 12084/12084 [3:51:14<00:00,  1.15s/it]\n"
     ]
    }
   ],
   "source": [
    "import time\n",
    "from tqdm import tqdm\n",
    "\n",
    "total = 0\n",
    "start = 0\n",
    "\n",
    "# Use tqdm to add a progress bar to enumerate(companies)\n",
    "for row, name in tqdm(enumerate(companies), total=len(companies), desc=\"Processing Companies\"):\n",
    "    url = f\"https://financialmodelingprep.com/api/v3/income-statement/{name.upper()}?apikey={api_key}\"\n",
    "    json_ = get_jsonparsed_data(url)\n",
    "    for _, filing in enumerate(json_):\n",
    "        df.loc[row, filing['date'].split('-')[0].strip()] = filing['revenue']\n",
    "    total += 1\n",
    "    if total == 298:\n",
    "        end = time.time()\n",
    "        if int(end - start) < 60:\n",
    "            time.sleep(60 - (end - start) +5)\n",
    "        start = time.time()\n",
    "        total = 0\n",
    "        df.to_csv('revenue_2.csv')\n"
   ]
  },
  {
   "cell_type": "markdown",
   "id": "87b0e33b",
   "metadata": {},
   "source": [
    "### Collect R&D"
   ]
  },
  {
   "cell_type": "code",
   "execution_count": 16,
   "id": "e846783f",
   "metadata": {},
   "outputs": [],
   "source": [
    "df = pd.DataFrame(data, columns=[\"Company\", \"CIK number\"])"
   ]
  },
  {
   "cell_type": "code",
   "execution_count": 18,
   "id": "1faf85f3",
   "metadata": {},
   "outputs": [
    {
     "name": "stderr",
     "output_type": "stream",
     "text": [
      "Processing Companies: 100%|█████████████| 12084/12084 [4:01:16<00:00,  1.20s/it]\n"
     ]
    }
   ],
   "source": [
    "import time\n",
    "from tqdm import tqdm\n",
    "\n",
    "total = 0\n",
    "start = 0\n",
    "\n",
    "# Use tqdm to add a progress bar to enumerate(companies)\n",
    "for row, name in tqdm(enumerate(companies), total=len(companies), desc=\"Processing Companies\"):\n",
    "    url = f\"https://financialmodelingprep.com/api/v3/income-statement/{name.upper()}?apikey={api_key}\"\n",
    "    json_ = get_jsonparsed_data(url)\n",
    "    for _, filing in enumerate(json_):\n",
    "        df.loc[row, filing['date'].split('-')[0].strip()] = filing['researchAndDevelopmentExpenses']\n",
    "    total += 1\n",
    "    if total == 298:\n",
    "        end = time.time()\n",
    "        if int(end - start) < 60:\n",
    "            time.sleep(60 - (end - start) +5)\n",
    "        start = time.time()\n",
    "        total = 0\n",
    "        df.to_csv('r&d.csv')\n"
   ]
  }
 ],
 "metadata": {
  "kernelspec": {
   "display_name": "Python 3 (ipykernel)",
   "language": "python",
   "name": "python3"
  },
  "language_info": {
   "codemirror_mode": {
    "name": "ipython",
    "version": 3
   },
   "file_extension": ".py",
   "mimetype": "text/x-python",
   "name": "python",
   "nbconvert_exporter": "python",
   "pygments_lexer": "ipython3",
   "version": "3.12.0"
  }
 },
 "nbformat": 4,
 "nbformat_minor": 5
}
