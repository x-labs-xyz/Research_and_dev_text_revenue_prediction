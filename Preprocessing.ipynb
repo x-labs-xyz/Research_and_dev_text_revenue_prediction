{
 "cells": [
  {
   "cell_type": "markdown",
   "id": "8057d026-e6c2-4fd3-a396-38338a2de8ca",
   "metadata": {},
   "source": [
    "# Preprocessing k-10"
   ]
  },
  {
   "cell_type": "markdown",
   "id": "dceaeb80-137e-4536-9269-eb01f94f2d0b",
   "metadata": {},
   "source": [
    "## Getting the keyword from dictionary"
   ]
  },
  {
   "cell_type": "code",
   "execution_count": 1,
   "id": "b29f04b4-696e-43c0-a256-c116b37d34cc",
   "metadata": {},
   "outputs": [],
   "source": [
    "import os\n",
    "import spacy\n",
    "import json\n",
    "from tqdm import tqdm\n",
    "\n",
    "nlp = spacy.load(\"en_core_web_lg\")\n",
    "\n",
    "# Getting target words\n",
    "file_path = \"Files/dictionary.txt\"  \n",
    "with open(file_path, \"r\") as file:\n",
    "    text_ = file.read()\n",
    "target_words = [i.lower() for i in text_.split('\\n')]\n",
    "\n",
    "# Getting future target words\n",
    "file_path = \"Files/future_dict.txt\"  # Replace with the actual file path\n",
    "with open(file_path, \"r\") as file:\n",
    "    text_ = file.read()\n",
    "f_target_words = [i.lower() for i in text_.split('\\n')]\n"
   ]
  },
  {
   "cell_type": "markdown",
   "id": "a838039b-ccf9-454b-b840-c0a1fd0ad737",
   "metadata": {},
   "source": [
    "# Extracting target sentences"
   ]
  },
  {
   "cell_type": "code",
   "execution_count": null,
   "id": "35059ea3-0ce4-4a9e-8d09-f72b26ecbd43",
   "metadata": {},
   "outputs": [],
   "source": [
    "file_list=os.listdir(\"2015\")"
   ]
  },
  {
   "cell_type": "code",
   "execution_count": null,
   "id": "1efc10d7-b586-43eb-891a-d9a7f38390e4",
   "metadata": {},
   "outputs": [],
   "source": [
    "train_set = {}\n",
    "f_train_set = {}\n",
    "for i, json_ in tqdm(enumerate(file_list), total=len(file_list)):\n",
    "    data = json.load(open(f\"2015/{json_}\"))\n",
    "    cik = data['cik']\n",
    "    texts_keys = list(data.keys())\n",
    "    '''\n",
    "    texts_keys.remove('filename')\n",
    "    texts_keys.remove('cik')\n",
    "    texts_keys.remove('year')\n",
    "    '''\n",
    "    texts_keys=[i for i in texts_keys if \"item\" in i.lower()]\n",
    "    text = ''\n",
    "    \n",
    "    # spacy library has limit of 1000000 so adding statement to handle large filings\n",
    "    for key in texts_keys:\n",
    "            text += data[key] + \" \" \n",
    "    if len(text) <= 1000000:      \n",
    "        doc = nlp(text)\n",
    "        sentences = []\n",
    "        f_sentences = []\n",
    "        for sent in doc.sents:\n",
    "            if any(word in sent.text.lower() for word in target_words):\n",
    "                sentences.append(sent.text.replace('\\n', ' '))\n",
    "                if any(word in sent.text.lower() for word in f_target_words):\n",
    "                    f_sentences.append(sent.text.replace('\\n', ' '))\n",
    "    else:\n",
    "        while len(text) > 1000000:\n",
    "            sub_text = text[:1000000]\n",
    "            text = text[1000000:]\n",
    "            doc = nlp(sub_text)\n",
    "            sentences = []\n",
    "            f_sentences = []\n",
    "            for sent in doc.sents:\n",
    "                if any(word in sent.text.lower() for word in target_words):\n",
    "                    sentences.append(sent.text.replace('\\n', ' '))\n",
    "                    if any(word in sent.text.lower() for word in f_target_words):\n",
    "                        f_sentences.append(sent.text.replace('\\n', ' '))\n",
    "\n",
    "        doc = nlp(text)\n",
    "        sentences = []\n",
    "        f_sentences = []\n",
    "        for sent in doc.sents:\n",
    "            if any(word in sent.text.lower() for word in target_words):\n",
    "                sentences.append(sent.text.replace('\\n', ' '))\n",
    "                if any(word in sent.text.lower() for word in f_target_words):\n",
    "                    f_sentences.append(sent.text.replace('\\n', ' '))\n",
    "                \n",
    "            \n",
    "    train_set[cik] = sentences\n",
    "    f_train_set[cik] = f_sentences"
   ]
  },
  {
   "cell_type": "markdown",
   "id": "f050ad76-1e66-42c8-857e-34a923685840",
   "metadata": {},
   "source": [
    "# Creating Pickle File"
   ]
  },
  {
   "cell_type": "code",
   "execution_count": null,
   "id": "8dfb8307-e0b8-490e-b321-e3a6e70df345",
   "metadata": {},
   "outputs": [],
   "source": [
    "import pickle\n",
    "pickle.dump(train_set, open(\"2015_base_corpus.pkl\",\"wb\"))\n",
    "pickle.dump(f_train_set, open(\"2015_future_corpus.pkl\",\"wb\"))"
   ]
  },
  {
   "cell_type": "code",
   "execution_count": null,
   "id": "666cd4c8-fd49-436e-bd00-c5eb05a7a357",
   "metadata": {},
   "outputs": [],
   "source": [
    "!ls"
   ]
  },
  {
   "cell_type": "code",
   "execution_count": null,
   "id": "a2abb00e-0d20-4498-920d-d946b766fb0d",
   "metadata": {},
   "outputs": [],
   "source": [
    "!ls -al --block-size=M"
   ]
  }
 ],
 "metadata": {
  "kernelspec": {
   "display_name": "Python 3 (ipykernel)",
   "language": "python",
   "name": "python3"
  },
  "language_info": {
   "codemirror_mode": {
    "name": "ipython",
    "version": 3
   },
   "file_extension": ".py",
   "mimetype": "text/x-python",
   "name": "python",
   "nbconvert_exporter": "python",
   "pygments_lexer": "ipython3",
   "version": "3.10.0"
  }
 },
 "nbformat": 4,
 "nbformat_minor": 5
}
