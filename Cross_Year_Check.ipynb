{
 "cells": [
  {
   "cell_type": "markdown",
   "id": "1fc22194-be91-4563-979d-ac6fab421240",
   "metadata": {},
   "source": [
    "# Cross Year Validation"
   ]
  },
  {
   "cell_type": "markdown",
   "id": "a219a0de-4720-4a73-89ac-46346585f3eb",
   "metadata": {},
   "source": [
    "### All the Function"
   ]
  },
  {
   "cell_type": "code",
   "execution_count": null,
   "id": "2e3355a1-7fb5-4bcd-bf02-2aa08bb3a667",
   "metadata": {},
   "outputs": [],
   "source": [
    "def return_label(df,end_year):\n",
    "    return_dict={}\n",
    "    companies=pd.DataFrame(df[str(end_year)].dropna())\n",
    "    \n",
    "    for cik, label in companies.iterrows():\n",
    "        return_dict[cik]=label[str(end_year)]\n",
    "        \n",
    "    return return_dict"
   ]
  },
  {
   "cell_type": "code",
   "execution_count": 2,
   "id": "20ef7394-64cc-4179-9116-a59d02398941",
   "metadata": {},
   "outputs": [],
   "source": [
    "from tqdm import tqdm\n",
    "def get_xy(corpus,labels):\n",
    "    X=[]\n",
    "    Y=[]\n",
    "    for ix in tqdm(labels.keys()):\n",
    "        if corpus.get(str(ix),\"\"):\n",
    "            X.append(corpus[str(ix)])\n",
    "            Y.append(labels[ix])\n",
    "    return X,Y"
   ]
  },
  {
   "cell_type": "code",
   "execution_count": null,
   "id": "26a6c554-f599-4381-b9a0-d73b07f55432",
   "metadata": {},
   "outputs": [],
   "source": [
    "import pickle \n",
    "import pandas as pd\n",
    "import numpy as np\n",
    "year = 2011\n",
    "\n",
    "base_corpus=pickle.load(open(f\"GPT/future/{year}_future_documents_embd.pkl\",\"rb\"))\n",
    "rev_df=pd.read_csv(f\"labels/{year}.csv\",index_col=1)\n",
    "\n",
    "\n",
    "labels = return_label(rev_df, year)\n",
    "test_labels = return_label(rev_df, year+1)\n",
    "\n",
    "filtered_dict = {}\n",
    "for key in test_labels:\n",
    "    if key in labels:\n",
    "        filtered_dict[key] = test_labels[key]\n",
    "test_labels = filtered_dict\n",
    "\n",
    "\n",
    "X, Y = get_xy(base_corpus, labels)\n",
    "\n",
    "X = np.array(X)\n",
    "Y = np.array(Y)\n",
    "\n",
    "X_test, Y_test = get_xy(base_corpus, test_labels)\n",
    "\n",
    "X_test = np.array(X_test)\n",
    "Y_test = np.array(Y_test)"
   ]
  },
  {
   "cell_type": "markdown",
   "id": "ae7fca4e-a289-477b-93b8-b9399e6b4679",
   "metadata": {},
   "source": [
    "### Cross data check"
   ]
  },
  {
   "cell_type": "code",
   "execution_count": 60,
   "id": "734efd6f-6753-4319-a36c-fdc8bed0c566",
   "metadata": {},
   "outputs": [],
   "source": [
    "from sklearn.model_selection import StratifiedKFold, train_test_split\n",
    "from sklearn.linear_model import LogisticRegression\n",
    "from sklearn.feature_extraction.text import TfidfVectorizer\n",
    "from sklearn.svm import LinearSVC\n",
    "from sklearn.metrics import precision_recall_fscore_support, roc_auc_score, precision_score, recall_score\n",
    "import numpy as np\n",
    "\n",
    "def do_train_10f(corpus, year):\n",
    "    labels = return_label(rev_df, year)\n",
    "    X, Y = get_xy(corpus, labels)\n",
    "    \n",
    "    X = np.array(X)\n",
    "    Y = np.array(Y)\n",
    "\n",
    "    map_ = np.array([False if np.isnan(i).any() else True for i in X])\n",
    "\n",
    "    X = X[map_]\n",
    "    Y = Y[map_]\n",
    "    \n",
    "    # change +5 to how many year a head do you want to test\n",
    "    test_labels = return_label(rev_df, year+5)\n",
    "\n",
    "    filtered_dict = {}\n",
    "    for key in test_labels:\n",
    "        if key in labels:\n",
    "            filtered_dict[key] = test_labels[key]\n",
    "    test_labels = filtered_dict\n",
    "\n",
    "    X_test, Y_test = get_xy(base_corpus, test_labels)\n",
    "    \n",
    "    map_ = np.array([False if np.isnan(i).any() else True for i in X_test])\n",
    "\n",
    "    X_test = np.array(X_test)\n",
    "    Y_test = np.array(Y_test)\n",
    "    \n",
    "    X_test = X_test[map_]\n",
    "    Y_test = Y_test[map_]\n",
    "\n",
    "    # Initialize lists to store performance metrics for each fold\n",
    "    lr_train_accs, lr_test_accs, svc_train_accs, svc_test_accs = [], [], [], []\n",
    "    lr_prs, svc_prs = [], []\n",
    "    lr_recals, svc_recals = [], []\n",
    "    lr_f1s, svc_f1s = [], []\n",
    "    ovr_aurocs, ovo_aurocs = [], []\n",
    "\n",
    "    # Create a 10-fold stratified cross-validation splitter\n",
    "    skf = StratifiedKFold(n_splits=10, shuffle=True, random_state=42)\n",
    "\n",
    "    for train_indices, test_indices in skf.split(X, Y):\n",
    "        x_train, x_test = X[train_indices], X[test_indices]\n",
    "        y_train, y_test = Y[train_indices], Y[test_indices]\n",
    "\n",
    "        # Train-test split within the fold (0.1 test size)\n",
    "        x_train, x_test, y_train, y_test = train_test_split(x_train, y_train, test_size=0.1, stratify=y_train)\n",
    "\n",
    "        # Logistic Regression\n",
    "        lr = LogisticRegression(n_jobs=-1, max_iter=1000)\n",
    "        lr.fit(x_train, y_train)\n",
    "\n",
    "        lr_train_acc = lr.score(x_train, y_train)\n",
    "        lr_test_acc = lr.score(X_test,Y_test)\n",
    "\n",
    "        lr_pr = precision_score(Y_test, lr.predict(X_test), average=\"weighted\", zero_division=0)\n",
    "        lr_rec = recall_score(Y_test, lr.predict(X_test), average=\"weighted\", zero_division=0)\n",
    "        lr_f1 = precision_recall_fscore_support(Y_test, lr.predict(X_test), average=\"weighted\", zero_division=0)\n",
    "\n",
    "        ovr_auroc = roc_auc_score(Y_test, lr.predict_proba(X_test), multi_class=\"ovr\", average=\"weighted\")\n",
    "        ovo_auroc = roc_auc_score(Y_test, lr.predict_proba(X_test), multi_class=\"ovo\", average=\"weighted\")\n",
    "\n",
    "        # Linear SVC\n",
    "        l_svc = LinearSVC(dual=False)\n",
    "        l_svc.fit(x_train, y_train)\n",
    "\n",
    "        svc_train_acc = l_svc.score(x_train, y_train)\n",
    "        svc_test_acc = l_svc.score(X_test, Y_test)\n",
    "\n",
    "        svc_pr = precision_score(Y_test, l_svc.predict(X_test), average=\"weighted\", zero_division=0)\n",
    "        svc_rec = recall_score(Y_test, l_svc.predict(X_test), average=\"weighted\", zero_division=0)\n",
    "        svc_f1 = precision_recall_fscore_support(Y_test, l_svc.predict(X_test), average=\"weighted\", zero_division=0)\n",
    "\n",
    "        # Append performance metrics to lists\n",
    "        lr_train_accs.append(lr_train_acc)\n",
    "        lr_test_accs.append(lr_test_acc)\n",
    "        svc_train_accs.append(svc_train_acc)\n",
    "        svc_test_accs.append(svc_test_acc)\n",
    "        lr_prs.append(lr_pr)\n",
    "        lr_recals.append(lr_rec)\n",
    "        lr_f1s.append(lr_f1)\n",
    "        ovr_aurocs.append(ovr_auroc)\n",
    "        ovo_aurocs.append(ovo_auroc)\n",
    "        svc_prs.append(svc_pr)\n",
    "        svc_recals.append(svc_rec)\n",
    "        svc_f1s.append(svc_f1)\n",
    "\n",
    "    # Calculate and return the mean values of the performance metrics\n",
    "    return lr_train_accs, lr_test_accs, svc_train_accs, svc_test_accs, lr_prs, lr_recals, lr_f1s, svc_prs, svc_recals, svc_f1s, ovr_aurocs, ovo_aurocs\n"
   ]
  },
  {
   "cell_type": "code",
   "execution_count": 61,
   "id": "dc0c9020-5757-497c-9839-4d260fd4af62",
   "metadata": {},
   "outputs": [
    {
     "name": "stderr",
     "output_type": "stream",
     "text": [
      "  0%|          | 0/10 [00:00<?, ?it/s]\n",
      "100%|██████████| 3650/3650 [00:00<00:00, 956168.23it/s]\n",
      "\n",
      "100%|██████████| 3481/3481 [00:00<00:00, 931086.81it/s]\n",
      "\n",
      "100%|██████████| 3673/3673 [00:00<00:00, 882442.35it/s]\n",
      "\n",
      "100%|██████████| 3501/3501 [00:00<00:00, 878875.89it/s]\n",
      "\n",
      "100%|██████████| 3638/3638 [00:00<00:00, 873733.28it/s]\n",
      "\n",
      "100%|██████████| 3516/3516 [00:00<00:00, 887421.64it/s]\n",
      "\n",
      "100%|██████████| 3664/3664 [00:00<00:00, 865896.43it/s]\n",
      "\n",
      "100%|██████████| 3472/3472 [00:00<00:00, 872954.29it/s]\n",
      "\n",
      "100%|██████████| 3682/3682 [00:00<00:00, 885314.57it/s]\n",
      "\n",
      "100%|██████████| 3548/3548 [00:00<00:00, 882906.59it/s]\n",
      "\n",
      "100%|██████████| 3675/3675 [00:00<00:00, 860064.01it/s]\n",
      "\n",
      "100%|██████████| 3393/3393 [00:00<00:00, 851764.03it/s]\n",
      "\n",
      "100%|██████████| 3653/3653 [00:00<00:00, 872291.06it/s]\n",
      "\n",
      "100%|██████████| 403/403 [00:00<00:00, 664427.87it/s]\n",
      "\n",
      "100%|██████████| 3701/3701 [00:00<00:00, 874147.94it/s]\n"
     ]
    },
    {
     "name": "stdout",
     "output_type": "stream",
     "text": [
      "error for 2011 when doing 2019\n"
     ]
    },
    {
     "name": "stderr",
     "output_type": "stream",
     "text": [
      "\n",
      "100%|██████████| 3610/3610 [00:00<00:00, 881289.65it/s]\n"
     ]
    },
    {
     "name": "stdout",
     "output_type": "stream",
     "text": [
      "error for 2011 when doing 2020\n"
     ]
    },
    {
     "name": "stderr",
     "output_type": "stream",
     "text": [
      "\n",
      "100%|██████████| 3681/3681 [00:00<00:00, 867177.77it/s]\n"
     ]
    },
    {
     "name": "stdout",
     "output_type": "stream",
     "text": [
      "error for 2011 when doing 2021\n"
     ]
    },
    {
     "name": "stderr",
     "output_type": "stream",
     "text": [
      "\n",
      "100%|██████████| 3519/3519 [00:00<00:00, 815591.30it/s]\n",
      " 10%|█         | 1/10 [04:21<39:10, 261.17s/it]"
     ]
    },
    {
     "name": "stdout",
     "output_type": "stream",
     "text": [
      "error for 2011 when doing 2022\n"
     ]
    },
    {
     "name": "stderr",
     "output_type": "stream",
     "text": [
      "\n",
      "100%|██████████| 3865/3865 [00:00<00:00, 910524.88it/s]\n",
      "\n",
      "100%|██████████| 3633/3633 [00:00<00:00, 867268.44it/s]\n",
      "\n",
      "100%|██████████| 3799/3799 [00:00<00:00, 880875.72it/s]\n",
      "\n",
      "100%|██████████| 3657/3657 [00:00<00:00, 894064.45it/s]\n",
      "\n",
      "100%|██████████| 3831/3831 [00:00<00:00, 888050.11it/s]\n",
      "\n",
      "100%|██████████| 3619/3619 [00:00<00:00, 876902.73it/s]\n",
      "\n",
      "100%|██████████| 3870/3870 [00:00<00:00, 871420.87it/s]\n",
      "\n",
      "100%|██████████| 3699/3699 [00:00<00:00, 871858.98it/s]\n",
      "\n",
      "100%|██████████| 3857/3857 [00:00<00:00, 879303.76it/s]\n",
      "\n",
      "100%|██████████| 3537/3537 [00:00<00:00, 872764.63it/s]\n",
      "\n",
      "100%|██████████| 3842/3842 [00:00<00:00, 882117.14it/s]\n",
      "\n",
      "100%|██████████| 422/422 [00:00<00:00, 691134.83it/s]\n",
      "\n",
      "100%|██████████| 3898/3898 [00:00<00:00, 905181.98it/s]\n"
     ]
    },
    {
     "name": "stdout",
     "output_type": "stream",
     "text": [
      "error for 2012 when doing 2019\n"
     ]
    },
    {
     "name": "stderr",
     "output_type": "stream",
     "text": [
      "\n",
      "100%|██████████| 3794/3794 [00:00<00:00, 886232.42it/s]\n"
     ]
    },
    {
     "name": "stdout",
     "output_type": "stream",
     "text": [
      "error for 2012 when doing 2020\n"
     ]
    },
    {
     "name": "stderr",
     "output_type": "stream",
     "text": [
      "\n",
      "100%|██████████| 3864/3864 [00:00<00:00, 879608.72it/s]\n"
     ]
    },
    {
     "name": "stdout",
     "output_type": "stream",
     "text": [
      "error for 2012 when doing 2021\n"
     ]
    },
    {
     "name": "stderr",
     "output_type": "stream",
     "text": [
      "\n",
      "100%|██████████| 3680/3680 [00:00<00:00, 874209.26it/s]\n",
      " 20%|██        | 2/10 [08:14<32:36, 244.54s/it]"
     ]
    },
    {
     "name": "stdout",
     "output_type": "stream",
     "text": [
      "error for 2012 when doing 2022\n"
     ]
    },
    {
     "name": "stderr",
     "output_type": "stream",
     "text": [
      "\n",
      "100%|██████████| 3930/3930 [00:00<00:00, 906240.84it/s]\n",
      "\n",
      "100%|██████████| 3728/3728 [00:00<00:00, 847913.09it/s]\n",
      "\n",
      "100%|██████████| 3941/3941 [00:00<00:00, 923966.02it/s]\n",
      "\n",
      "100%|██████████| 3692/3692 [00:00<00:00, 933022.26it/s]\n",
      "\n",
      "100%|██████████| 3975/3975 [00:00<00:00, 936912.53it/s]\n",
      "\n",
      "100%|██████████| 3796/3796 [00:00<00:00, 939936.12it/s]\n",
      "\n",
      "100%|██████████| 3992/3992 [00:00<00:00, 871747.88it/s]\n",
      "\n",
      "100%|██████████| 3655/3655 [00:00<00:00, 864159.03it/s]\n",
      "\n",
      "100%|██████████| 3984/3984 [00:00<00:00, 898876.12it/s]\n",
      "\n",
      "100%|██████████| 431/431 [00:00<00:00, 682167.93it/s]\n",
      "\n",
      "100%|██████████| 4024/4024 [00:00<00:00, 898619.92it/s]\n"
     ]
    },
    {
     "name": "stdout",
     "output_type": "stream",
     "text": [
      "error for 2013 when doing 2019\n"
     ]
    },
    {
     "name": "stderr",
     "output_type": "stream",
     "text": [
      "\n",
      "100%|██████████| 3915/3915 [00:00<00:00, 893789.47it/s]\n"
     ]
    },
    {
     "name": "stdout",
     "output_type": "stream",
     "text": [
      "error for 2013 when doing 2020\n"
     ]
    },
    {
     "name": "stderr",
     "output_type": "stream",
     "text": [
      "\n",
      "100%|██████████| 4011/4011 [00:00<00:00, 899404.08it/s]\n"
     ]
    },
    {
     "name": "stdout",
     "output_type": "stream",
     "text": [
      "error for 2013 when doing 2021\n"
     ]
    },
    {
     "name": "stderr",
     "output_type": "stream",
     "text": [
      "\n",
      "100%|██████████| 3838/3838 [00:00<00:00, 887123.26it/s]\n",
      " 30%|███       | 3/10 [11:26<25:45, 220.77s/it]"
     ]
    },
    {
     "name": "stdout",
     "output_type": "stream",
     "text": [
      "error for 2013 when doing 2022\n"
     ]
    },
    {
     "name": "stderr",
     "output_type": "stream",
     "text": [
      "\n",
      "100%|██████████| 4071/4071 [00:00<00:00, 924122.51it/s]\n",
      "\n",
      "100%|██████████| 3809/3809 [00:00<00:00, 893068.59it/s]\n",
      "\n",
      "100%|██████████| 4079/4079 [00:00<00:00, 876373.63it/s]\n",
      "\n",
      "100%|██████████| 3879/3879 [00:00<00:00, 885570.72it/s]\n",
      "\n",
      "100%|██████████| 4087/4087 [00:00<00:00, 897963.36it/s]\n",
      "\n",
      "100%|██████████| 3702/3702 [00:00<00:00, 878490.15it/s]\n",
      "\n",
      "100%|██████████| 4077/4077 [00:00<00:00, 897599.99it/s]\n",
      "\n",
      "100%|██████████| 439/439 [00:00<00:00, 696406.75it/s]\n",
      "\n",
      "100%|██████████| 4152/4152 [00:00<00:00, 897667.54it/s]\n"
     ]
    },
    {
     "name": "stdout",
     "output_type": "stream",
     "text": [
      "error for 2014 when doing 2019\n"
     ]
    },
    {
     "name": "stderr",
     "output_type": "stream",
     "text": [
      "\n",
      "100%|██████████| 4067/4067 [00:00<00:00, 871340.57it/s]\n"
     ]
    },
    {
     "name": "stdout",
     "output_type": "stream",
     "text": [
      "error for 2014 when doing 2020\n"
     ]
    },
    {
     "name": "stderr",
     "output_type": "stream",
     "text": [
      "\n",
      "100%|██████████| 4127/4127 [00:00<00:00, 893875.17it/s]\n"
     ]
    },
    {
     "name": "stdout",
     "output_type": "stream",
     "text": [
      "error for 2014 when doing 2021\n"
     ]
    },
    {
     "name": "stderr",
     "output_type": "stream",
     "text": [
      "\n",
      "100%|██████████| 3904/3904 [00:00<00:00, 863318.54it/s]\n",
      " 40%|████      | 4/10 [14:12<19:54, 199.06s/it]"
     ]
    },
    {
     "name": "stdout",
     "output_type": "stream",
     "text": [
      "error for 2014 when doing 2022\n"
     ]
    },
    {
     "name": "stderr",
     "output_type": "stream",
     "text": [
      "\n",
      "100%|██████████| 4331/4331 [00:00<00:00, 903308.34it/s]\n",
      "\n",
      "100%|██████████| 4056/4056 [00:00<00:00, 883837.13it/s]\n",
      "\n",
      "100%|██████████| 4288/4288 [00:00<00:00, 882578.05it/s]\n",
      "\n",
      "100%|██████████| 3865/3865 [00:00<00:00, 867175.83it/s]\n",
      "\n",
      "100%|██████████| 4316/4316 [00:00<00:00, 894840.14it/s]\n",
      "\n",
      "100%|██████████| 439/439 [00:00<00:00, 686283.81it/s]\n",
      "\n",
      "100%|██████████| 4363/4363 [00:00<00:00, 898676.44it/s]\n"
     ]
    },
    {
     "name": "stdout",
     "output_type": "stream",
     "text": [
      "error for 2015 when doing 2019\n"
     ]
    },
    {
     "name": "stderr",
     "output_type": "stream",
     "text": [
      "\n",
      "100%|██████████| 4252/4252 [00:00<00:00, 876028.13it/s]\n"
     ]
    },
    {
     "name": "stdout",
     "output_type": "stream",
     "text": [
      "error for 2015 when doing 2020\n"
     ]
    },
    {
     "name": "stderr",
     "output_type": "stream",
     "text": [
      "\n",
      "100%|██████████| 4330/4330 [00:00<00:00, 901933.67it/s]\n"
     ]
    },
    {
     "name": "stdout",
     "output_type": "stream",
     "text": [
      "error for 2015 when doing 2021\n"
     ]
    },
    {
     "name": "stderr",
     "output_type": "stream",
     "text": [
      "\n",
      "100%|██████████| 4104/4104 [00:00<00:00, 883918.23it/s]\n",
      " 50%|█████     | 5/10 [16:35<14:53, 178.73s/it]"
     ]
    },
    {
     "name": "stdout",
     "output_type": "stream",
     "text": [
      "error for 2015 when doing 2022\n"
     ]
    },
    {
     "name": "stderr",
     "output_type": "stream",
     "text": [
      "\n",
      "100%|██████████| 4503/4503 [00:00<00:00, 919520.49it/s]\n",
      "\n",
      "100%|██████████| 4007/4007 [00:00<00:00, 887780.68it/s]\n",
      "\n",
      "100%|██████████| 4474/4474 [00:00<00:00, 902048.56it/s]\n",
      "\n",
      "100%|██████████| 458/458 [00:00<00:00, 692249.09it/s]\n",
      "\n",
      "100%|██████████| 4576/4576 [00:00<00:00, 893992.97it/s]\n"
     ]
    },
    {
     "name": "stdout",
     "output_type": "stream",
     "text": [
      "error for 2016 when doing 2019\n"
     ]
    },
    {
     "name": "stderr",
     "output_type": "stream",
     "text": [
      "\n",
      "100%|██████████| 4450/4450 [00:00<00:00, 897641.17it/s]\n"
     ]
    },
    {
     "name": "stdout",
     "output_type": "stream",
     "text": [
      "error for 2016 when doing 2020\n"
     ]
    },
    {
     "name": "stderr",
     "output_type": "stream",
     "text": [
      "\n",
      "100%|██████████| 4518/4518 [00:00<00:00, 902331.58it/s]\n"
     ]
    },
    {
     "name": "stdout",
     "output_type": "stream",
     "text": [
      "error for 2016 when doing 2021\n"
     ]
    },
    {
     "name": "stderr",
     "output_type": "stream",
     "text": [
      "\n",
      "100%|██████████| 4276/4276 [00:00<00:00, 889007.83it/s]\n",
      " 60%|██████    | 6/10 [18:16<10:10, 152.51s/it]"
     ]
    },
    {
     "name": "stdout",
     "output_type": "stream",
     "text": [
      "error for 2016 when doing 2022\n"
     ]
    },
    {
     "name": "stderr",
     "output_type": "stream",
     "text": [
      "\n",
      "100%|██████████| 4938/4938 [00:00<00:00, 935984.87it/s]\n",
      "\n",
      "100%|██████████| 473/473 [00:00<00:00, 689814.25it/s]\n",
      "\n",
      "100%|██████████| 4921/4921 [00:00<00:00, 855976.86it/s]\n"
     ]
    },
    {
     "name": "stdout",
     "output_type": "stream",
     "text": [
      "error for 2017 when doing 2019\n"
     ]
    },
    {
     "name": "stderr",
     "output_type": "stream",
     "text": [
      "\n",
      "100%|██████████| 4743/4743 [00:00<00:00, 900284.38it/s]\n"
     ]
    },
    {
     "name": "stdout",
     "output_type": "stream",
     "text": [
      "error for 2017 when doing 2020\n"
     ]
    },
    {
     "name": "stderr",
     "output_type": "stream",
     "text": [
      "\n",
      "100%|██████████| 4887/4887 [00:00<00:00, 901903.62it/s]\n"
     ]
    },
    {
     "name": "stdout",
     "output_type": "stream",
     "text": [
      "error for 2017 when doing 2021\n"
     ]
    },
    {
     "name": "stderr",
     "output_type": "stream",
     "text": [
      "\n",
      "100%|██████████| 4494/4494 [00:00<00:00, 880474.69it/s]\n",
      " 70%|███████   | 7/10 [19:03<05:53, 117.98s/it]"
     ]
    },
    {
     "name": "stdout",
     "output_type": "stream",
     "text": [
      "error for 2017 when doing 2022\n"
     ]
    },
    {
     "name": "stderr",
     "output_type": "stream",
     "text": [
      "\n",
      "100%|██████████| 5179/5179 [00:00<00:00, 933449.38it/s]\n"
     ]
    },
    {
     "name": "stdout",
     "output_type": "stream",
     "text": [
      "error for 2018 when doing 2019\n"
     ]
    },
    {
     "name": "stderr",
     "output_type": "stream",
     "text": [
      "\n",
      "100%|██████████| 4963/4963 [00:00<00:00, 897100.96it/s]\n"
     ]
    },
    {
     "name": "stdout",
     "output_type": "stream",
     "text": [
      "error for 2018 when doing 2020\n"
     ]
    },
    {
     "name": "stderr",
     "output_type": "stream",
     "text": [
      "\n",
      "100%|██████████| 5028/5028 [00:00<00:00, 899699.68it/s]\n"
     ]
    },
    {
     "name": "stdout",
     "output_type": "stream",
     "text": [
      "error for 2018 when doing 2021\n"
     ]
    },
    {
     "name": "stderr",
     "output_type": "stream",
     "text": [
      "\n",
      "100%|██████████| 4864/4864 [00:00<00:00, 904664.74it/s]\n",
      " 80%|████████  | 8/10 [19:07<02:43, 81.55s/it] "
     ]
    },
    {
     "name": "stdout",
     "output_type": "stream",
     "text": [
      "error for 2018 when doing 2022\n"
     ]
    },
    {
     "name": "stderr",
     "output_type": "stream",
     "text": [
      "\n",
      "100%|██████████| 5605/5605 [00:00<00:00, 952362.73it/s]\n"
     ]
    },
    {
     "name": "stdout",
     "output_type": "stream",
     "text": [
      "error for 2019 when doing 2020\n"
     ]
    },
    {
     "name": "stderr",
     "output_type": "stream",
     "text": [
      "\n",
      "100%|██████████| 5527/5527 [00:00<00:00, 863418.31it/s]\n"
     ]
    },
    {
     "name": "stdout",
     "output_type": "stream",
     "text": [
      "error for 2019 when doing 2021\n"
     ]
    },
    {
     "name": "stderr",
     "output_type": "stream",
     "text": [
      "\n",
      "100%|██████████| 5132/5132 [00:00<00:00, 904799.00it/s]\n",
      " 90%|█████████ | 9/10 [19:09<00:56, 56.89s/it]"
     ]
    },
    {
     "name": "stdout",
     "output_type": "stream",
     "text": [
      "error for 2019 when doing 2022\n"
     ]
    },
    {
     "name": "stderr",
     "output_type": "stream",
     "text": [
      "\n",
      "100%|██████████| 5418/5418 [00:00<00:00, 941528.80it/s]\n"
     ]
    },
    {
     "name": "stdout",
     "output_type": "stream",
     "text": [
      "error for 2020 when doing 2021\n"
     ]
    },
    {
     "name": "stderr",
     "output_type": "stream",
     "text": [
      "\n",
      "100%|██████████| 5142/5142 [00:00<00:00, 904243.48it/s]\n",
      "100%|██████████| 10/10 [19:11<00:00, 115.18s/it]"
     ]
    },
    {
     "name": "stdout",
     "output_type": "stream",
     "text": [
      "error for 2020 when doing 2022\n"
     ]
    },
    {
     "name": "stderr",
     "output_type": "stream",
     "text": [
      "\n"
     ]
    }
   ],
   "source": [
    "main_dict = {}\n",
    "for year in tqdm(range(2011, 2021)):\n",
    "    # pickle file for k-10 filings\n",
    "    base_corpus=pickle.load(open(f\"GPT/base/{year}_base_documents_embd.pkl\",\"rb\"))\n",
    "\n",
    "    # labels csv file\n",
    "    rev_df=pd.read_csv(f\"labels/{year}.csv\",index_col=1)\n",
    "\n",
    "    performance_dict={'columns': [\"lr_train_acc\", \"lr_test_acc\", \"svc_train_acc\", \"svc_test_acc\", \"lr_precision\", \"lr_recall\", \"lr_f1\", \"svc_precision\", \"svc_recall\", \"svc_f1\", \"OVO_auroc\", \"OVR_auroc\"]}\n",
    "    for i in range(int(year)+1,2023):\n",
    "        try:\n",
    "            performance_dict[i]=do_train_10f(base_corpus,i)\n",
    "        except: print(f'error for {year} when doing {i}')\n",
    "    main_dict[f\"base_{year}\"] = performance_dict"
   ]
  },
  {
   "cell_type": "code",
   "execution_count": 62,
   "id": "9cacc75b-1c96-4309-9730-7b0ad7b9d1e9",
   "metadata": {},
   "outputs": [
    {
     "name": "stdout",
     "output_type": "stream",
     "text": [
      "Dictionary has been pickled and saved to gpt_future_t5_.pkl\n"
     ]
    }
   ],
   "source": [
    "import pickle\n",
    "\n",
    "# Create a dictionary\n",
    "my_dict = main_dict\n",
    "\n",
    "# Specify the filename for the pickle file\n",
    "pickle_filename = 'gpt_future_t5_.pkl'\n",
    "\n",
    "# Open the file in binary write mode and use pickle.dump to save the dictionary\n",
    "with open(pickle_filename, 'wb') as pickle_file:\n",
    "    pickle.dump(my_dict, pickle_file)\n",
    "\n",
    "print(f'Dictionary has been pickled and saved to {pickle_filename}')"
   ]
  }
 ],
 "metadata": {
  "kernelspec": {
   "display_name": "Python 3 (ipykernel)",
   "language": "python",
   "name": "python3"
  },
  "language_info": {
   "codemirror_mode": {
    "name": "ipython",
    "version": 3
   },
   "file_extension": ".py",
   "mimetype": "text/x-python",
   "name": "python",
   "nbconvert_exporter": "python",
   "pygments_lexer": "ipython3",
   "version": "3.10.0"
  }
 },
 "nbformat": 4,
 "nbformat_minor": 5
}
