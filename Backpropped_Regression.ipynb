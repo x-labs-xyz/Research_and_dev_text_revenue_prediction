{
 "cells": [
  {
   "cell_type": "code",
   "execution_count": 1,
   "id": "0e817a43-3138-4685-999a-da125a98ac03",
   "metadata": {},
   "outputs": [],
   "source": [
    "def return_label(df,end_year):\n",
    "    return_dict={}\n",
    "    companies=pd.DataFrame(df[str(end_year)].dropna())\n",
    "    \n",
    "    for cik, label in companies.iterrows():\n",
    "        return_dict[cik]=label[str(end_year)]\n",
    "        \n",
    "    return return_dict"
   ]
  },
  {
   "cell_type": "code",
   "execution_count": 2,
   "id": "bfe91b9d-fb0b-4729-b6b9-86b4a5330b9b",
   "metadata": {},
   "outputs": [],
   "source": [
    "from tqdm import tqdm\n",
    "def get_xy(corpus,labels):\n",
    "    X=[]\n",
    "    Y=[]\n",
    "    for ix in tqdm(labels.keys()):\n",
    "        if corpus.get(str(ix),\"\"):\n",
    "            X.append(corpus[str(ix)])\n",
    "            Y.append(labels[ix])\n",
    "    return X,Y"
   ]
  },
  {
   "cell_type": "code",
   "execution_count": 3,
   "id": "108446fa-3e50-4eed-bba7-5034ba5f9306",
   "metadata": {},
   "outputs": [],
   "source": [
    "from sklearn.model_selection import StratifiedKFold, train_test_split\n",
    "from sklearn.linear_model import LogisticRegression\n",
    "from sklearn.feature_extraction.text import TfidfVectorizer\n",
    "from sklearn.svm import LinearSVC\n",
    "from sklearn.metrics import precision_recall_fscore_support, roc_auc_score, precision_score, recall_score\n",
    "import numpy as np\n",
    "\n",
    "def do_train_10f(corpus, year):\n",
    "    labels = return_label(rev_df, year)\n",
    "    X, Y = get_xy(corpus, labels)\n",
    "    \n",
    "    X = np.array(X)\n",
    "    Y = np.array(Y)\n",
    "\n",
    "    not_nan_map = ~np.isnan(X)\n",
    "    map_ = np.array([False if np.isnan(i).any() else True for i in X])\n",
    "\n",
    "    X = X[map_]\n",
    "    Y = Y[map_]\n",
    "\n",
    "    # Initialize lists to store performance metrics for each fold\n",
    "    lr_train_accs, lr_test_accs, svc_train_accs, svc_test_accs = [], [], [], []\n",
    "    lr_prs, svc_prs = [], []\n",
    "    lr_recals, svc_recals = [], []\n",
    "    lr_f1s, svc_f1s = [], []\n",
    "    ovr_aurocs, ovo_aurocs = [], []\n",
    "\n",
    "    # Create a 10-fold stratified cross-validation splitter\n",
    "    skf = StratifiedKFold(n_splits=10, shuffle=True, random_state=42)\n",
    "\n",
    "    for train_indices, test_indices in skf.split(X, Y):\n",
    "        x_train, x_test = X[train_indices], X[test_indices]\n",
    "        y_train, y_test = Y[train_indices], Y[test_indices]\n",
    "        \n",
    "        # Train-test split within the fold (0.1 test size)\n",
    "        x_train, x_test, y_train, y_test = train_test_split(x_train, y_train, test_size=0.1, stratify=y_train)\n",
    "\n",
    "        # Logistic Regression\n",
    "        lr = LogisticRegression(n_jobs=-1, max_iter=1000)\n",
    "        lr.fit(x_train, y_train)\n",
    "\n",
    "        lr_train_acc = lr.score(x_train, y_train)\n",
    "        lr_test_acc = lr.score(x_test, y_test)\n",
    "\n",
    "        lr_pr = precision_score(y_test, lr.predict(x_test), average=\"weighted\", zero_division=0)\n",
    "        lr_rec = recall_score(y_test, lr.predict(x_test), average=\"weighted\", zero_division=0)\n",
    "        lr_f1 = precision_recall_fscore_support(y_test, lr.predict(x_test), average=\"weighted\", zero_division=0)\n",
    "\n",
    "        ovr_auroc = roc_auc_score(y_test, lr.predict_proba(x_test), multi_class=\"ovr\", average=\"weighted\")\n",
    "        ovo_auroc = roc_auc_score(y_test, lr.predict_proba(x_test), multi_class=\"ovo\", average=\"weighted\")\n",
    "\n",
    "        # Linear SVC\n",
    "        l_svc = LinearSVC(dual=False)\n",
    "        l_svc.fit(x_train, y_train)\n",
    "\n",
    "        svc_train_acc = l_svc.score(x_train, y_train)\n",
    "        svc_test_acc = l_svc.score(x_test, y_test)\n",
    "\n",
    "        svc_pr = precision_score(y_test, l_svc.predict(x_test), average=\"weighted\", zero_division=0)\n",
    "        svc_rec = recall_score(y_test, l_svc.predict(x_test), average=\"weighted\", zero_division=0)\n",
    "        svc_f1 = precision_recall_fscore_support(y_test, l_svc.predict(x_test), average=\"weighted\", zero_division=0)\n",
    "\n",
    "        # Append performance metrics to lists\n",
    "        lr_train_accs.append(lr_train_acc)\n",
    "        lr_test_accs.append(lr_test_acc)\n",
    "        svc_train_accs.append(svc_train_acc)\n",
    "        svc_test_accs.append(svc_test_acc)\n",
    "        lr_prs.append(lr_pr)\n",
    "        lr_recals.append(lr_rec)\n",
    "        lr_f1s.append(lr_f1)\n",
    "        ovr_aurocs.append(ovr_auroc)\n",
    "        ovo_aurocs.append(ovo_auroc)\n",
    "        svc_prs.append(svc_pr)\n",
    "        svc_recals.append(svc_rec)\n",
    "        svc_f1s.append(svc_f1)\n",
    "    print(\"works till here\")\n",
    "    # Calculate and return the mean values of the performance metrics\n",
    "    return lr_train_accs, lr_test_accs, svc_train_accs, svc_test_accs, lr_prs, lr_recals, lr_f1s, svc_prs, svc_recals, svc_f1s, ovr_aurocs, ovo_aurocs\n"
   ]
  },
  {
   "cell_type": "code",
   "execution_count": 4,
   "id": "d8918e14-4693-42b2-812c-7dd5dd5d35ac",
   "metadata": {},
   "outputs": [
    {
     "name": "stderr",
     "output_type": "stream",
     "text": [
      "  0%|          | 0/9 [00:00<?, ?it/s]\n",
      "100%|██████████| 3650/3650 [00:00<00:00, 878577.31it/s]\n",
      " 11%|█         | 1/9 [11:16<1:30:15, 676.97s/it]"
     ]
    },
    {
     "name": "stdout",
     "output_type": "stream",
     "text": [
      "works till here\n"
     ]
    },
    {
     "name": "stderr",
     "output_type": "stream",
     "text": [
      "\n",
      "100%|██████████| 3673/3673 [00:00<00:00, 838358.65it/s]\n",
      " 22%|██▏       | 2/9 [21:43<1:15:29, 647.09s/it]"
     ]
    },
    {
     "name": "stdout",
     "output_type": "stream",
     "text": [
      "works till here\n"
     ]
    },
    {
     "name": "stderr",
     "output_type": "stream",
     "text": [
      "\n",
      "100%|██████████| 3638/3638 [00:00<00:00, 807775.43it/s]\n",
      " 33%|███▎      | 3/9 [31:58<1:03:16, 632.67s/it]"
     ]
    },
    {
     "name": "stdout",
     "output_type": "stream",
     "text": [
      "works till here\n"
     ]
    },
    {
     "name": "stderr",
     "output_type": "stream",
     "text": [
      "\n",
      "100%|██████████| 3664/3664 [00:00<00:00, 850843.20it/s]\n",
      " 44%|████▍     | 4/9 [42:07<51:55, 623.16s/it]  "
     ]
    },
    {
     "name": "stdout",
     "output_type": "stream",
     "text": [
      "works till here\n"
     ]
    },
    {
     "name": "stderr",
     "output_type": "stream",
     "text": [
      "\n",
      "100%|██████████| 3682/3682 [00:00<00:00, 842613.89it/s]\n",
      " 56%|█████▌    | 5/9 [52:23<41:23, 620.77s/it]"
     ]
    },
    {
     "name": "stdout",
     "output_type": "stream",
     "text": [
      "works till here\n"
     ]
    },
    {
     "name": "stderr",
     "output_type": "stream",
     "text": [
      "\n",
      "100%|██████████| 3675/3675 [00:00<00:00, 855861.59it/s]\n",
      " 67%|██████▋   | 6/9 [1:02:56<31:14, 624.93s/it]"
     ]
    },
    {
     "name": "stdout",
     "output_type": "stream",
     "text": [
      "works till here\n"
     ]
    },
    {
     "name": "stderr",
     "output_type": "stream",
     "text": [
      "\n",
      "100%|██████████| 3653/3653 [00:00<00:00, 832344.23it/s]\n",
      " 78%|███████▊  | 7/9 [1:13:50<21:08, 634.26s/it]"
     ]
    },
    {
     "name": "stdout",
     "output_type": "stream",
     "text": [
      "works till here\n"
     ]
    },
    {
     "name": "stderr",
     "output_type": "stream",
     "text": [
      "\n",
      "100%|██████████| 3701/3701 [00:00<00:00, 856400.70it/s]\n",
      " 89%|████████▉ | 8/9 [1:24:20<10:32, 632.94s/it]"
     ]
    },
    {
     "name": "stdout",
     "output_type": "stream",
     "text": [
      "works till here\n"
     ]
    },
    {
     "name": "stderr",
     "output_type": "stream",
     "text": [
      "\n",
      "100%|██████████| 3610/3610 [00:00<00:00, 822546.58it/s]\n",
      "100%|██████████| 9/9 [1:34:14<00:00, 628.28s/it]"
     ]
    },
    {
     "name": "stdout",
     "output_type": "stream",
     "text": [
      "works till here\n"
     ]
    },
    {
     "name": "stderr",
     "output_type": "stream",
     "text": [
      "\n"
     ]
    }
   ],
   "source": [
    "import pickle\n",
    "import pandas as pd\n",
    "main_dict = {}\n",
    "for year in tqdm(range(2012, 2021)):\n",
    "    # pickle file for k-10 filings\n",
    "    base_corpus=pickle.load(open(f\"/scratch/pk2286/Backpropped/embeddings/{year}_backproped_embd.pkl\",\"rb\"))\n",
    "\n",
    "    # labels csv file\n",
    "    rev_df=pd.read_csv(f\"/scratch/pk2286/labels/{2011}.csv\",index_col=1)\n",
    "\n",
    "    performance_dict={'columns': [\"lr_train_acc\", \"lr_test_acc\", \"svc_train_acc\", \"svc_test_acc\", \"lr_precision\", \"lr_recall\", \"lr_f1\", \"svc_precision\", \"svc_recall\", \"svc_f1\", \"OVO_auroc\", \"OVR_auroc\"]}\n",
    "    \n",
    "    performance_dict[year]=do_train_10f(base_corpus,year)\n",
    "    main_dict[f\"base_{year}\"] = performance_dict\n"
   ]
  },
  {
   "cell_type": "code",
   "execution_count": null,
   "id": "38a52716-266e-4b99-b541-178253ec8503",
   "metadata": {},
   "outputs": [],
   "source": [
    "import os\n",
    "\n",
    "file_path = \"/scratch/pk2286/Backpropped/embeddings/2012_backproped_embd.pkl\"\n",
    "\n",
    "if os.path.exists(file_path):\n",
    "    print(f\"The file '{file_path}' exists.\")\n",
    "else:\n",
    "    print(f\"The file '{file_path}' does not exist.\")\n"
   ]
  },
  {
   "cell_type": "code",
   "execution_count": 11,
   "id": "3f3502d7-690b-4aa7-9fe8-62da554d1a71",
   "metadata": {},
   "outputs": [
    {
     "data": {
      "text/plain": [
       "['base_2012',\n",
       " 'base_2013',\n",
       " 'base_2014',\n",
       " 'base_2015',\n",
       " 'base_2016',\n",
       " 'base_2017',\n",
       " 'base_2018',\n",
       " 'base_2019',\n",
       " 'base_2020']"
      ]
     },
     "execution_count": 11,
     "metadata": {},
     "output_type": "execute_result"
    }
   ],
   "source": [
    "list(main_dict.keys())"
   ]
  },
  {
   "cell_type": "code",
   "execution_count": 30,
   "id": "1e976035-981d-4e7b-aa49-21062eaf63a5",
   "metadata": {},
   "outputs": [],
   "source": [
    "columns = ['year', 'lr_train_acc',\n",
    "   'lr_test_acc',\n",
    "   'svc_train_acc',\n",
    "   'svc_test_acc']\n",
    "data = []\n",
    "for key in main_dict:\n",
    "    year = int(key.split(\"_\")[-1])\n",
    "    metrics = main_dict[key][year]\n",
    "    list_ = [sum(i)/len(i) for i in  metrics[:4]]\n",
    "    list_.insert(0, year)  \n",
    "    data.append(list_)\n",
    "    list_ = []\n",
    "df = pd.DataFrame(data, columns=columns)"
   ]
  },
  {
   "cell_type": "code",
   "execution_count": 31,
   "id": "ef74f883-6116-4993-9ba8-107afd42ed48",
   "metadata": {},
   "outputs": [
    {
     "data": {
      "text/html": [
       "<div>\n",
       "<style scoped>\n",
       "    .dataframe tbody tr th:only-of-type {\n",
       "        vertical-align: middle;\n",
       "    }\n",
       "\n",
       "    .dataframe tbody tr th {\n",
       "        vertical-align: top;\n",
       "    }\n",
       "\n",
       "    .dataframe thead th {\n",
       "        text-align: right;\n",
       "    }\n",
       "</style>\n",
       "<table border=\"1\" class=\"dataframe\">\n",
       "  <thead>\n",
       "    <tr style=\"text-align: right;\">\n",
       "      <th></th>\n",
       "      <th>year</th>\n",
       "      <th>lr_train_acc</th>\n",
       "      <th>lr_test_acc</th>\n",
       "      <th>svc_train_acc</th>\n",
       "      <th>svc_test_acc</th>\n",
       "    </tr>\n",
       "  </thead>\n",
       "  <tbody>\n",
       "    <tr>\n",
       "      <th>0</th>\n",
       "      <td>2012</td>\n",
       "      <td>0.992174</td>\n",
       "      <td>0.462931</td>\n",
       "      <td>0.998944</td>\n",
       "      <td>0.450862</td>\n",
       "    </tr>\n",
       "    <tr>\n",
       "      <th>1</th>\n",
       "      <td>2013</td>\n",
       "      <td>0.994294</td>\n",
       "      <td>0.457328</td>\n",
       "      <td>0.998801</td>\n",
       "      <td>0.449569</td>\n",
       "    </tr>\n",
       "    <tr>\n",
       "      <th>2</th>\n",
       "      <td>2014</td>\n",
       "      <td>0.996156</td>\n",
       "      <td>0.486463</td>\n",
       "      <td>0.998930</td>\n",
       "      <td>0.456769</td>\n",
       "    </tr>\n",
       "    <tr>\n",
       "      <th>3</th>\n",
       "      <td>2015</td>\n",
       "      <td>0.996572</td>\n",
       "      <td>0.469264</td>\n",
       "      <td>0.999710</td>\n",
       "      <td>0.450649</td>\n",
       "    </tr>\n",
       "    <tr>\n",
       "      <th>4</th>\n",
       "      <td>2016</td>\n",
       "      <td>0.995627</td>\n",
       "      <td>0.462500</td>\n",
       "      <td>0.998847</td>\n",
       "      <td>0.446552</td>\n",
       "    </tr>\n",
       "    <tr>\n",
       "      <th>5</th>\n",
       "      <td>2017</td>\n",
       "      <td>0.993671</td>\n",
       "      <td>0.450000</td>\n",
       "      <td>0.998753</td>\n",
       "      <td>0.445690</td>\n",
       "    </tr>\n",
       "    <tr>\n",
       "      <th>6</th>\n",
       "      <td>2018</td>\n",
       "      <td>0.995437</td>\n",
       "      <td>0.456034</td>\n",
       "      <td>0.999280</td>\n",
       "      <td>0.449138</td>\n",
       "    </tr>\n",
       "    <tr>\n",
       "      <th>7</th>\n",
       "      <td>2019</td>\n",
       "      <td>0.997036</td>\n",
       "      <td>0.447639</td>\n",
       "      <td>0.999713</td>\n",
       "      <td>0.439056</td>\n",
       "    </tr>\n",
       "    <tr>\n",
       "      <th>8</th>\n",
       "      <td>2020</td>\n",
       "      <td>0.998229</td>\n",
       "      <td>0.473451</td>\n",
       "      <td>0.999262</td>\n",
       "      <td>0.464602</td>\n",
       "    </tr>\n",
       "  </tbody>\n",
       "</table>\n",
       "</div>"
      ],
      "text/plain": [
       "   year  lr_train_acc  lr_test_acc  svc_train_acc  svc_test_acc\n",
       "0  2012      0.992174     0.462931       0.998944      0.450862\n",
       "1  2013      0.994294     0.457328       0.998801      0.449569\n",
       "2  2014      0.996156     0.486463       0.998930      0.456769\n",
       "3  2015      0.996572     0.469264       0.999710      0.450649\n",
       "4  2016      0.995627     0.462500       0.998847      0.446552\n",
       "5  2017      0.993671     0.450000       0.998753      0.445690\n",
       "6  2018      0.995437     0.456034       0.999280      0.449138\n",
       "7  2019      0.997036     0.447639       0.999713      0.439056\n",
       "8  2020      0.998229     0.473451       0.999262      0.464602"
      ]
     },
     "execution_count": 31,
     "metadata": {},
     "output_type": "execute_result"
    }
   ],
   "source": [
    "df"
   ]
  },
  {
   "cell_type": "code",
   "execution_count": 25,
   "id": "1c3e4697-ec30-4a67-9fb0-377e228a6931",
   "metadata": {},
   "outputs": [
    {
     "data": {
      "text/plain": [
       "[0.9982292179045744,\n",
       " 0.47345132743362833,\n",
       " 0.999262174126906,\n",
       " 0.46460176991150437]"
      ]
     },
     "execution_count": 25,
     "metadata": {},
     "output_type": "execute_result"
    }
   ],
   "source": [
    "[sum(i)/len(i) for i in metrics[:4]]"
   ]
  },
  {
   "cell_type": "code",
   "execution_count": 28,
   "id": "a5815b00-8e41-4d5b-86fd-9f9b0922a3c3",
   "metadata": {},
   "outputs": [
    {
     "data": {
      "text/html": [
       "<div>\n",
       "<style scoped>\n",
       "    .dataframe tbody tr th:only-of-type {\n",
       "        vertical-align: middle;\n",
       "    }\n",
       "\n",
       "    .dataframe tbody tr th {\n",
       "        vertical-align: top;\n",
       "    }\n",
       "\n",
       "    .dataframe thead th {\n",
       "        text-align: right;\n",
       "    }\n",
       "</style>\n",
       "<table border=\"1\" class=\"dataframe\">\n",
       "  <thead>\n",
       "    <tr style=\"text-align: right;\">\n",
       "      <th></th>\n",
       "    </tr>\n",
       "  </thead>\n",
       "  <tbody>\n",
       "  </tbody>\n",
       "</table>\n",
       "</div>"
      ],
      "text/plain": [
       "Empty DataFrame\n",
       "Columns: []\n",
       "Index: []"
      ]
     },
     "execution_count": 28,
     "metadata": {},
     "output_type": "execute_result"
    }
   ],
   "source": [
    "df"
   ]
  },
  {
   "cell_type": "code",
   "execution_count": null,
   "id": "945a2f4b-8b87-4f48-b515-ed5527105fa6",
   "metadata": {},
   "outputs": [],
   "source": []
  }
 ],
 "metadata": {
  "kernelspec": {
   "display_name": "Python 3 (ipykernel)",
   "language": "python",
   "name": "python3"
  },
  "language_info": {
   "codemirror_mode": {
    "name": "ipython",
    "version": 3
   },
   "file_extension": ".py",
   "mimetype": "text/x-python",
   "name": "python",
   "nbconvert_exporter": "python",
   "pygments_lexer": "ipython3",
   "version": "3.10.0"
  }
 },
 "nbformat": 4,
 "nbformat_minor": 5
}
